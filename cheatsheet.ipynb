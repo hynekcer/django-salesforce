{
 "cells": [
  {
   "cell_type": "markdown",
   "metadata": {},
   "source": [
    "# Cheat sheet for Django-salesforce\n",
    "### Devepoment in Jupyter Notebook"
   ]
  },
  {
   "cell_type": "code",
   "execution_count": 1,
   "metadata": {},
   "outputs": [
    {
     "name": "stderr",
     "output_type": "stream",
     "text": [
      "attempting authentication to https://test.salesforce.com\n",
      "successfully authenticated myname@example.com.sandbox\n"
     ]
    },
    {
     "data": {
      "text/plain": [
       "'https://cs7.salesforce.com'"
      ]
     },
     "execution_count": 1,
     "metadata": {},
     "output_type": "execute_result"
    }
   ],
   "source": [
    "# connect to a database\n",
    "import os, sys\n",
    "import django\n",
    "os.environ.setdefault(\"DJANGO_SETTINGS_MODULE\", \"testrunner.settings\")\n",
    "django.setup()\n",
    "from django.db import connections\n",
    "HOST = connections['salesforce'].sf_session.auth.instance_url\n",
    "HOST"
   ]
  },
  {
   "cell_type": "code",
   "execution_count": 2,
   "metadata": {
    "scrolled": true
   },
   "outputs": [],
   "source": [
    "# import models\n",
    "import salesforce\n",
    "from salesforce.testrunner.example.models import Account, Contact, Opportunity"
   ]
  },
  {
   "cell_type": "markdown",
   "metadata": {},
   "source": [
    "`DecimalField` uses a full float accuracy on Salesforce. The number of decimal places is used\n",
    "only for user input and output"
   ]
  },
  {
   "cell_type": "code",
   "execution_count": 3,
   "metadata": {},
   "outputs": [
    {
     "data": {
      "text/plain": [
       "[('006M000000DvyPjIAJ', 'test op', Decimal('33.3333333333333'), Decimal('10'))]"
      ]
     },
     "execution_count": 3,
     "metadata": {},
     "output_type": "execute_result"
    }
   ],
   "source": [
    "opp = Opportunity.objects.filter(name='test op')[0]\n",
    "opp.amount = 100 / 3.\n",
    "opp.save()\n",
    "qs = Opportunity.objects.filter(name='test op')[:1]\n",
    "[(x.id, x.name, x.amount, x.probability) for x in qs]"
   ]
  },
  {
   "cell_type": "code",
   "execution_count": 5,
   "metadata": {},
   "outputs": [
    {
     "data": {
      "text/plain": [
       "\"SELECT Account.Name FROM Account WHERE (Account.Id IN (SELECT Contact.AccountId FROM Contact WHERE Contact.FirstName = 'Peter') AND Account.Id IN (SELECT Contact.AccountId FROM Contact WHERE Contact.FirstName = 'Jane'))\""
      ]
     },
     "execution_count": 5,
     "metadata": {},
     "output_type": "execute_result"
    }
   ],
   "source": [
    "# Find Accounts with a Contact with the first name 'Peter' and as well with the first name 'Jane'\n",
    "qs = (Account.objects\n",
    "      .filter(id__in=Contact.objects.filter(first_name='Peter').values('account_id'))\n",
    "      .filter(id__in=Contact.objects.filter(first_name='Jane').values('account_id'))\n",
    "      .values('Name')\n",
    "      )\n",
    "str(qs.query)"
   ]
  },
  {
   "cell_type": "code",
   "execution_count": 6,
   "metadata": {},
   "outputs": [
    {
     "data": {
      "text/plain": [
       "\"SELECT Contact.Name FROM Contact WHERE Contact.AccountId IN (SELECT Account.Id FROM Account WHERE Account.Name = 'abc')\""
      ]
     },
     "execution_count": 6,
     "metadata": {},
     "output_type": "execute_result"
    }
   ],
   "source": [
    "qs = Contact.objects.filter(account__in=Account.objects.filter(Name='abc')).values('name')\n",
    "str(qs.query)"
   ]
  },
  {
   "cell_type": "code",
   "execution_count": 7,
   "metadata": {},
   "outputs": [],
   "source": [
    "# # more low level dict cursor\n",
    "# dcur = connections['salesforce'].connection.cursor(dict)\n",
    "# dcur.execute(\"select Id, Name from Opportunity limit 1\")\n",
    "# dcur.fetchall()"
   ]
  },
  {
   "cell_type": "code",
   "execution_count": 4,
   "metadata": {},
   "outputs": [
    {
     "data": {
      "text/plain": [
       "[['006M000000DvyPjIAJ', 'test op']]"
      ]
     },
     "execution_count": 4,
     "metadata": {},
     "output_type": "execute_result"
    }
   ],
   "source": [
    "# list cursor\n",
    "cur = connections['salesforce'].cursor()\n",
    "cur.execute(\"select Id, Name from Opportunity limit 1\")\n",
    "cur.fetchall()"
   ]
  },
  {
   "cell_type": "markdown",
   "metadata": {},
   "source": [
    "### Introspection\n",
    "#### a) Introspection to Django Models"
   ]
  },
  {
   "cell_type": "code",
   "execution_count": 8,
   "metadata": {},
   "outputs": [
    {
     "data": {
      "text/plain": [
       "(<salesforce.fields.SalesforceAutoField: id>,\n",
       " <salesforce.fields.CharField: name>,\n",
       " <salesforce.fields.DateField: close_date>,\n",
       " <salesforce.fields.CharField: stage>,\n",
       " <salesforce.fields.DateTimeField: created_date>,\n",
       " <salesforce.fields.DecimalField: amount>,\n",
       " <salesforce.fields.DecimalField: probability>)"
      ]
     },
     "execution_count": 8,
     "metadata": {},
     "output_type": "execute_result"
    }
   ],
   "source": [
    "# I don't remember field names and field types in models\n",
    "Opportunity._meta.fields"
   ]
  },
  {
   "cell_type": "code",
   "execution_count": 9,
   "metadata": {
    "scrolled": false
   },
   "outputs": [
    {
     "data": {
      "text/plain": [
       "2"
      ]
     },
     "execution_count": 9,
     "metadata": {},
     "output_type": "execute_result"
    }
   ],
   "source": [
    "Opportunity._meta.get_field('amount').decimal_places"
   ]
  }
 ],
 "metadata": {
  "kernelspec": {
   "display_name": "Python 3",
   "language": "python",
   "name": "python3"
  },
  "language_info": {
   "codemirror_mode": {
    "name": "ipython",
    "version": 3
   },
   "file_extension": ".py",
   "mimetype": "text/x-python",
   "name": "python",
   "nbconvert_exporter": "python",
   "pygments_lexer": "ipython3",
   "version": "3.6.8"
  }
 },
 "nbformat": 4,
 "nbformat_minor": 2
}
